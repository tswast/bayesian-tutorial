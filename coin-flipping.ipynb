{
 "metadata": {
  "name": "coin-flipping"
 },
 "nbformat": 3,
 "nbformat_minor": 0,
 "worksheets": [
  {
   "cells": [
    {
     "cell_type": "code",
     "collapsed": false,
     "input": [
      "%pylab inline\n",
      "import numpy as np\n",
      "import numpy.random"
     ],
     "language": "python",
     "metadata": {},
     "outputs": []
    },
    {
     "cell_type": "markdown",
     "metadata": {},
     "source": [
      "Simulation\n",
      "==========\n",
      "\n",
      "I pick a p-coin, a coin which lands heads with probability p, by choosing p from a uniform distribution. I then do independent trials using this p-coin. That is, I flip the coin a bunch of times."
     ]
    },
    {
     "cell_type": "code",
     "collapsed": false,
     "input": [
      "class RandomCoin(object):\n",
      "    def __init__(self):\n",
      "        # choose a p-coin\n",
      "        self.pvalue = np.random.random()\n",
      "    def do_trial(self):\n",
      "        return np.random.random() <= self.pvalue\n",
      "pcoin = RandomCoin()"
     ],
     "language": "python",
     "metadata": {},
     "outputs": []
    },
    {
     "cell_type": "markdown",
     "metadata": {},
     "source": [
      "What do I know about pcoin? It could be any coin!"
     ]
    },
    {
     "cell_type": "code",
     "collapsed": false,
     "input": [
      "pspace = np.linspace(0, 1, 1000)\n",
      "pprobabilities = np.ones(1000)\n",
      "plot(pspace, pprobabilities)"
     ],
     "language": "python",
     "metadata": {},
     "outputs": []
    },
    {
     "cell_type": "code",
     "collapsed": false,
     "input": [
      "# Let's flip the coin.\n",
      "trial_result = pcoin.do_trial()\n",
      "trial_result"
     ],
     "language": "python",
     "metadata": {},
     "outputs": []
    },
    {
     "cell_type": "code",
     "collapsed": false,
     "input": [
      "# How should knowing this result change our probabilities for p?\n",
      "# Bayes Rule (a.k.a. conditional probabilities):\n",
      "# P(p|H) = P(H|p) P(p) / P(H)\n",
      "# It's easy to figure out P(H|p), that's just p! (It's the probability of heads for a p-coin.)\n",
      "# For tails, P(T|p), it's 1-p.\n",
      "def updatepprobabilities(trial_result):\n",
      "    global pprobabilities\n",
      "    preversed = pspace if trial_result else 1.0 - pspace\n",
      "    pprobabilities = preversed * pprobabilities\n",
      "    pprobabilities /= pprobabilities.sum() # P(trial_result) is also known as a 'marginal' probability\n",
      "updatepprobabilities(trial_result)\n",
      "plot(pspace, pprobabilities)"
     ],
     "language": "python",
     "metadata": {},
     "outputs": []
    },
    {
     "cell_type": "markdown",
     "metadata": {},
     "source": [
      "What does pprobabilities actually mean?\n",
      "=======================================\n",
      "\n",
      "If we played this game a bunch of times and we limited ourselves to just those cases where the first flip was heads (or tails), then this should be the distribution of p-coins."
     ]
    },
    {
     "cell_type": "code",
     "collapsed": false,
     "input": [
      "# Select 10,000 p-coins.\n",
      "pcoins = np.random.random(10000)\n",
      "pcoins[:10]"
     ],
     "language": "python",
     "metadata": {},
     "outputs": []
    },
    {
     "cell_type": "code",
     "collapsed": false,
     "input": [
      "# Flip the 10,000 coins once\n",
      "isheads = np.random.random(10000) <= pcoins\n",
      "isheads[:10]"
     ],
     "language": "python",
     "metadata": {},
     "outputs": []
    },
    {
     "cell_type": "code",
     "collapsed": false,
     "input": [
      "# Limit to just those that landed like our trial.\n",
      "isliketrial = isheads == trial_result\n",
      "# What do the pcoins with this result look like?\n",
      "hist(pcoins[isliketrial], 25)"
     ],
     "language": "python",
     "metadata": {},
     "outputs": []
    },
    {
     "cell_type": "markdown",
     "metadata": {},
     "source": [
      "Making predictions\n",
      "==================\n",
      "\n",
      "We can use this \"Bayesian updating\" to make predictions."
     ]
    },
    {
     "cell_type": "code",
     "collapsed": false,
     "input": [
      "# Let's do another trial\n",
      "trial_result = pcoin.do_trial()\n",
      "trial_result"
     ],
     "language": "python",
     "metadata": {},
     "outputs": []
    },
    {
     "cell_type": "code",
     "collapsed": false,
     "input": [
      "# Update our knowledge about the p-coin\n",
      "updatepprobabilities(trial_result)\n",
      "plot(pspace, pprobabilities)"
     ],
     "language": "python",
     "metadata": {},
     "outputs": []
    },
    {
     "cell_type": "code",
     "collapsed": false,
     "input": [
      "# How does this look after a few more trials?\n",
      "trials = [pcoin.do_trial() for i in xrange(30)]\n",
      "print trials\n",
      "for trial_result in trials:\n",
      "    updatepprobabilities(trial_result)\n",
      "plot(pspace, pprobabilities)"
     ],
     "language": "python",
     "metadata": {},
     "outputs": []
    },
    {
     "cell_type": "code",
     "collapsed": false,
     "input": [
      "pcoin.pvalue"
     ],
     "language": "python",
     "metadata": {},
     "outputs": []
    },
    {
     "cell_type": "code",
     "collapsed": false,
     "input": [],
     "language": "python",
     "metadata": {},
     "outputs": []
    }
   ],
   "metadata": {}
  }
 ]
}